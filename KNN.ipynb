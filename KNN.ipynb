{
 "cells": [
  {
   "cell_type": "code",
   "execution_count": 1,
   "metadata": {},
   "outputs": [],
   "source": [
    "import warnings\n",
    "warnings.filterwarnings(\"ignore\")"
   ]
  },
  {
   "cell_type": "code",
   "execution_count": 2,
   "metadata": {},
   "outputs": [],
   "source": [
    "import sys\n",
    "sys.path.append('./modules')"
   ]
  },
  {
   "cell_type": "code",
   "execution_count": 3,
   "metadata": {},
   "outputs": [],
   "source": [
    "from Classicator import Classicator"
   ]
  },
  {
   "cell_type": "code",
   "execution_count": 4,
   "metadata": {},
   "outputs": [],
   "source": [
    "import pandas as pd\n",
    "import numpy as np\n"
   ]
  },
  {
   "cell_type": "code",
   "execution_count": 5,
   "metadata": {},
   "outputs": [],
   "source": [
    "from sklearn.neighbors import KNeighborsClassifier\n",
    "from sklearn.model_selection import train_test_split\n",
    "from sklearn.metrics import classification_report\n",
    "from sklearn.model_selection import GridSearchCV\n"
   ]
  },
  {
   "cell_type": "code",
   "execution_count": 6,
   "metadata": {},
   "outputs": [],
   "source": [
    "PATH_DATA = './data/'\n",
    "PATH_SUBMISSION = './submissions/'\n",
    "PATH_MODEL = './models/'"
   ]
  },
  {
   "cell_type": "code",
   "execution_count": 7,
   "metadata": {},
   "outputs": [],
   "source": [
    "test_df = pd.read_csv(PATH_DATA + 'test.csv')"
   ]
  },
  {
   "cell_type": "code",
   "execution_count": 8,
   "metadata": {},
   "outputs": [],
   "source": [
    "gender_submission = pd.read_csv(PATH_DATA + 'gender_submission.csv')"
   ]
  },
  {
   "cell_type": "code",
   "execution_count": 9,
   "metadata": {},
   "outputs": [],
   "source": [
    "def make_submission(y_pred, gender_submission, test_df, name):\n",
    "    gender_submission.Survived = y_pred\n",
    "    gender_submission.PassengerId = test_df.PassengerId\n",
    "    gender_submission.to_csv(PATH_SUBMISSION + name, index=False)"
   ]
  },
  {
   "cell_type": "markdown",
   "metadata": {},
   "source": [
    "# KNN blanks"
   ]
  },
  {
   "cell_type": "code",
   "execution_count": 10,
   "metadata": {},
   "outputs": [],
   "source": [
    "train_knn_df = pd.read_csv(PATH_DATA  +'train_knn_tree.csv')\n",
    "test_knn_df = pd.read_csv(PATH_DATA  +'test_knn_tree.csv')\n",
    "target_name = 'Survived'"
   ]
  },
  {
   "cell_type": "code",
   "execution_count": 11,
   "metadata": {},
   "outputs": [],
   "source": [
    "classificator_knn_blanks = Classicator(train_knn_df, test_knn_df, target_name)"
   ]
  },
  {
   "cell_type": "markdown",
   "metadata": {},
   "source": [
    "## Simple Classificator"
   ]
  },
  {
   "cell_type": "code",
   "execution_count": 12,
   "metadata": {},
   "outputs": [
    {
     "name": "stdout",
     "output_type": "stream",
     "text": [
      "KNeighborsClassifier\n",
      "              precision    recall  f1-score   support\n",
      "\n",
      "           0       0.82      0.87      0.84       134\n",
      "           1       0.78      0.71      0.74        89\n",
      "\n",
      "    accuracy                           0.80       223\n",
      "   macro avg       0.80      0.79      0.79       223\n",
      "weighted avg       0.80      0.80      0.80       223\n",
      "\n"
     ]
    }
   ],
   "source": [
    "classificator_knn_blanks.set_class_classicator(KNeighborsClassifier)\n",
    "classificator_knn_blanks.make_simple_classificator()"
   ]
  },
  {
   "cell_type": "markdown",
   "metadata": {},
   "source": [
    "## Search best classificator"
   ]
  },
  {
   "cell_type": "code",
   "execution_count": 13,
   "metadata": {},
   "outputs": [],
   "source": [
    "parameters = {\n",
    "    'n_neighbors':np.arange(3, 30), \n",
    "    'metric' : ['cosine', 'euclidean','manhattan', 'chebyshev', 'wminkowski']\n",
    "}\n",
    "parametrs_class_searher = {\n",
    "    'class_searcher': GridSearchCV,\n",
    "    'cv':5,\n",
    "    'scoring':'precision',\n",
    "    'n_jobs': 5\n",
    "}\n",
    "classificator_knn_blanks.set_parametr_search(parameters)\n",
    "classificator_knn_blanks.set_class_searcher(**parametrs_class_searher)"
   ]
  },
  {
   "cell_type": "code",
   "execution_count": 14,
   "metadata": {},
   "outputs": [
    {
     "name": "stdout",
     "output_type": "stream",
     "text": [
      "Best estimator\n",
      "\n",
      "KNeighborsClassifier(algorithm='auto', leaf_size=30, metric='manhattan',\n",
      "                     metric_params=None, n_jobs=None, n_neighbors=6, p=2,\n",
      "                     weights='uniform')\n",
      "\n",
      "Best parametrs\n",
      "\n",
      "{'metric': 'manhattan', 'n_neighbors': 6}\n",
      "\n",
      "KNeighborsClassifier\n",
      "              precision    recall  f1-score   support\n",
      "\n",
      "           0       0.86      0.95      0.90       134\n",
      "           1       0.91      0.76      0.83        89\n",
      "\n",
      "    accuracy                           0.87       223\n",
      "   macro avg       0.88      0.86      0.86       223\n",
      "weighted avg       0.88      0.87      0.87       223\n",
      "\n"
     ]
    }
   ],
   "source": [
    "classificator_knn_blanks.searh_best_classificator()"
   ]
  },
  {
   "cell_type": "markdown",
   "metadata": {},
   "source": [
    "## Best classificator"
   ]
  },
  {
   "cell_type": "code",
   "execution_count": 15,
   "metadata": {},
   "outputs": [
    {
     "name": "stdout",
     "output_type": "stream",
     "text": [
      "KNeighborsClassifier\n",
      "              precision    recall  f1-score   support\n",
      "\n",
      "           0       0.80      0.93      0.86       134\n",
      "           1       0.85      0.65      0.74        89\n",
      "\n",
      "    accuracy                           0.82       223\n",
      "   macro avg       0.83      0.79      0.80       223\n",
      "weighted avg       0.82      0.82      0.81       223\n",
      "\n"
     ]
    }
   ],
   "source": [
    "classificator_knn_blanks.make_best_classificator()"
   ]
  },
  {
   "cell_type": "markdown",
   "metadata": {},
   "source": [
    "## Final classificator"
   ]
  },
  {
   "cell_type": "code",
   "execution_count": 16,
   "metadata": {
    "scrolled": true
   },
   "outputs": [
    {
     "name": "stdout",
     "output_type": "stream",
     "text": [
      "KNeighborsClassifier\n",
      "              precision    recall  f1-score   support\n",
      "\n",
      "           0       0.86      0.95      0.90       134\n",
      "           1       0.91      0.76      0.83        89\n",
      "\n",
      "    accuracy                           0.87       223\n",
      "   macro avg       0.88      0.86      0.86       223\n",
      "weighted avg       0.88      0.87      0.87       223\n",
      "\n"
     ]
    }
   ],
   "source": [
    "classificator_knn_blanks.make_final_classificator()"
   ]
  },
  {
   "cell_type": "markdown",
   "metadata": {},
   "source": [
    "## Submission"
   ]
  },
  {
   "cell_type": "code",
   "execution_count": 17,
   "metadata": {},
   "outputs": [],
   "source": [
    "y_pred = classificator_knn_blanks.make_predict_with_final_classificator()\n",
    "make_submission(y_pred, gender_submission, test_df, 'submission_knn_with_knn_blanks.csv')"
   ]
  },
  {
   "cell_type": "markdown",
   "metadata": {},
   "source": [
    "## Save model"
   ]
  },
  {
   "cell_type": "code",
   "execution_count": 18,
   "metadata": {},
   "outputs": [],
   "source": [
    "classificator_knn_blanks.save_final_model(PATH_MODEL, 'knn_with_knn_blanks.joblib')"
   ]
  },
  {
   "cell_type": "markdown",
   "metadata": {},
   "source": [
    "# IMP Blanks"
   ]
  },
  {
   "cell_type": "code",
   "execution_count": 19,
   "metadata": {},
   "outputs": [],
   "source": [
    "train_imp_df = pd.read_csv(PATH_DATA  +'train_imp_tree.csv')\n",
    "test_imp_df = pd.read_csv(PATH_DATA  +'test_imp_tree.csv')\n",
    "target_name = 'Survived'"
   ]
  },
  {
   "cell_type": "code",
   "execution_count": 20,
   "metadata": {},
   "outputs": [],
   "source": [
    "classificator_imp_blanks = Classicator(train_imp_df, test_imp_df, target_name)"
   ]
  },
  {
   "cell_type": "markdown",
   "metadata": {},
   "source": [
    "## Simple Classificator"
   ]
  },
  {
   "cell_type": "code",
   "execution_count": 21,
   "metadata": {},
   "outputs": [
    {
     "name": "stdout",
     "output_type": "stream",
     "text": [
      "KNeighborsClassifier\n",
      "              precision    recall  f1-score   support\n",
      "\n",
      "           0       0.82      0.84      0.83       134\n",
      "           1       0.75      0.73      0.74        89\n",
      "\n",
      "    accuracy                           0.79       223\n",
      "   macro avg       0.79      0.78      0.78       223\n",
      "weighted avg       0.79      0.79      0.79       223\n",
      "\n"
     ]
    }
   ],
   "source": [
    "classificator_imp_blanks.set_class_classicator(KNeighborsClassifier)\n",
    "classificator_imp_blanks.make_simple_classificator()"
   ]
  },
  {
   "cell_type": "markdown",
   "metadata": {},
   "source": [
    "## Search best classificator"
   ]
  },
  {
   "cell_type": "code",
   "execution_count": 22,
   "metadata": {},
   "outputs": [],
   "source": [
    "parameters = {\n",
    "    'n_neighbors':np.arange(3, 30), \n",
    "    'metric' : ['cosine', 'euclidean','manhattan', 'chebyshev', 'wminkowski']\n",
    "}\n",
    "parametrs_class_searher = {\n",
    "    'class_searcher': GridSearchCV,\n",
    "    'cv':5,\n",
    "    'scoring':'precision',\n",
    "    'n_jobs': 5\n",
    "}\n",
    "classificator_imp_blanks.set_parametr_search(parameters)\n",
    "classificator_imp_blanks.set_class_searcher(**parametrs_class_searher)"
   ]
  },
  {
   "cell_type": "code",
   "execution_count": 23,
   "metadata": {},
   "outputs": [
    {
     "name": "stdout",
     "output_type": "stream",
     "text": [
      "Best estimator\n",
      "\n",
      "KNeighborsClassifier(algorithm='auto', leaf_size=30, metric='manhattan',\n",
      "                     metric_params=None, n_jobs=None, n_neighbors=14, p=2,\n",
      "                     weights='uniform')\n",
      "\n",
      "Best parametrs\n",
      "\n",
      "{'metric': 'manhattan', 'n_neighbors': 14}\n",
      "\n",
      "KNeighborsClassifier\n",
      "              precision    recall  f1-score   support\n",
      "\n",
      "           0       0.84      0.92      0.88       134\n",
      "           1       0.86      0.73      0.79        89\n",
      "\n",
      "    accuracy                           0.84       223\n",
      "   macro avg       0.85      0.82      0.83       223\n",
      "weighted avg       0.84      0.84      0.84       223\n",
      "\n"
     ]
    }
   ],
   "source": [
    "classificator_imp_blanks.searh_best_classificator()"
   ]
  },
  {
   "cell_type": "markdown",
   "metadata": {},
   "source": [
    "## Best classificator"
   ]
  },
  {
   "cell_type": "code",
   "execution_count": 24,
   "metadata": {},
   "outputs": [
    {
     "name": "stdout",
     "output_type": "stream",
     "text": [
      "KNeighborsClassifier\n",
      "              precision    recall  f1-score   support\n",
      "\n",
      "           0       0.81      0.93      0.86       134\n",
      "           1       0.86      0.67      0.75        89\n",
      "\n",
      "    accuracy                           0.83       223\n",
      "   macro avg       0.83      0.80      0.81       223\n",
      "weighted avg       0.83      0.83      0.82       223\n",
      "\n"
     ]
    }
   ],
   "source": [
    "classificator_imp_blanks.make_best_classificator()"
   ]
  },
  {
   "cell_type": "markdown",
   "metadata": {},
   "source": [
    "## Final classificator"
   ]
  },
  {
   "cell_type": "code",
   "execution_count": 25,
   "metadata": {},
   "outputs": [
    {
     "name": "stdout",
     "output_type": "stream",
     "text": [
      "KNeighborsClassifier\n",
      "              precision    recall  f1-score   support\n",
      "\n",
      "           0       0.84      0.92      0.88       134\n",
      "           1       0.86      0.73      0.79        89\n",
      "\n",
      "    accuracy                           0.84       223\n",
      "   macro avg       0.85      0.82      0.83       223\n",
      "weighted avg       0.84      0.84      0.84       223\n",
      "\n"
     ]
    }
   ],
   "source": [
    "classificator_imp_blanks.make_final_classificator()"
   ]
  },
  {
   "cell_type": "markdown",
   "metadata": {},
   "source": [
    "## Submission"
   ]
  },
  {
   "cell_type": "code",
   "execution_count": 26,
   "metadata": {},
   "outputs": [],
   "source": [
    "y_pred = classificator_imp_blanks.make_predict_with_final_classificator()\n",
    "make_submission(y_pred, gender_submission, test_df, 'submission_knn_with_imp_blanks.csv')"
   ]
  },
  {
   "cell_type": "markdown",
   "metadata": {},
   "source": [
    "## Save model"
   ]
  },
  {
   "cell_type": "code",
   "execution_count": 27,
   "metadata": {},
   "outputs": [],
   "source": [
    "classificator_imp_blanks.save_final_model(PATH_MODEL, 'knn_with_imp_blanks.joblib')"
   ]
  },
  {
   "cell_type": "code",
   "execution_count": null,
   "metadata": {},
   "outputs": [],
   "source": []
  }
 ],
 "metadata": {
  "kernelspec": {
   "display_name": "Python 3",
   "language": "python",
   "name": "python3"
  },
  "language_info": {
   "codemirror_mode": {
    "name": "ipython",
    "version": 3
   },
   "file_extension": ".py",
   "mimetype": "text/x-python",
   "name": "python",
   "nbconvert_exporter": "python",
   "pygments_lexer": "ipython3",
   "version": "3.7.3"
  }
 },
 "nbformat": 4,
 "nbformat_minor": 2
}
