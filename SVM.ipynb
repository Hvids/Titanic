{
 "cells": [
  {
   "cell_type": "code",
   "execution_count": 1,
   "metadata": {},
   "outputs": [],
   "source": [
    "import warnings\n",
    "warnings.filterwarnings(\"ignore\")"
   ]
  },
  {
   "cell_type": "code",
   "execution_count": 2,
   "metadata": {},
   "outputs": [],
   "source": [
    "import sys\n",
    "sys.path.append('./modules')"
   ]
  },
  {
   "cell_type": "code",
   "execution_count": 3,
   "metadata": {},
   "outputs": [],
   "source": [
    "from Classicator import Classicator"
   ]
  },
  {
   "cell_type": "code",
   "execution_count": 4,
   "metadata": {},
   "outputs": [],
   "source": [
    "import pandas as pd\n",
    "import numpy as np\n"
   ]
  },
  {
   "cell_type": "code",
   "execution_count": 5,
   "metadata": {},
   "outputs": [],
   "source": [
    "from sklearn import svm\n",
    "from sklearn.model_selection import train_test_split\n",
    "from sklearn.metrics import classification_report\n",
    "from sklearn.model_selection import GridSearchCV\n"
   ]
  },
  {
   "cell_type": "code",
   "execution_count": 6,
   "metadata": {},
   "outputs": [],
   "source": [
    "PATH_DATA = './data/'\n",
    "PATH_SUBMISSION = './submissions/'\n",
    "PATH_MODEL = './models/'"
   ]
  },
  {
   "cell_type": "code",
   "execution_count": 7,
   "metadata": {},
   "outputs": [],
   "source": [
    "test_df = pd.read_csv(PATH_DATA + 'test.csv')"
   ]
  },
  {
   "cell_type": "code",
   "execution_count": 8,
   "metadata": {},
   "outputs": [],
   "source": [
    "gender_submission = pd.read_csv(PATH_DATA + 'gender_submission.csv')"
   ]
  },
  {
   "cell_type": "code",
   "execution_count": 9,
   "metadata": {},
   "outputs": [],
   "source": [
    "def make_submission(y_pred, gender_submission, test_df, name):\n",
    "    gender_submission.Survived = y_pred\n",
    "    gender_submission.PassengerId = test_df.PassengerId\n",
    "    gender_submission.to_csv(PATH_SUBMISSION + name, index=False)"
   ]
  },
  {
   "cell_type": "markdown",
   "metadata": {},
   "source": [
    "# KNN blanks"
   ]
  },
  {
   "cell_type": "code",
   "execution_count": 10,
   "metadata": {},
   "outputs": [],
   "source": [
    "train_knn_df = pd.read_csv(PATH_DATA  +'train_knn_liner.csv')\n",
    "test_knn_df = pd.read_csv(PATH_DATA  +'test_knn_liner.csv')\n",
    "target_name = 'Survived'"
   ]
  },
  {
   "cell_type": "code",
   "execution_count": 11,
   "metadata": {},
   "outputs": [],
   "source": [
    "classificator_knn_blanks = Classicator(train_knn_df, test_knn_df, target_name)"
   ]
  },
  {
   "cell_type": "markdown",
   "metadata": {},
   "source": [
    "## Simple Classificator"
   ]
  },
  {
   "cell_type": "code",
   "execution_count": 17,
   "metadata": {},
   "outputs": [
    {
     "name": "stdout",
     "output_type": "stream",
     "text": [
      "SVC\n",
      "              precision    recall  f1-score   support\n",
      "\n",
      "           0       0.78      0.90      0.83       134\n",
      "           1       0.80      0.62      0.70        89\n",
      "\n",
      "    accuracy                           0.78       223\n",
      "   macro avg       0.79      0.76      0.76       223\n",
      "weighted avg       0.79      0.78      0.78       223\n",
      "\n"
     ]
    }
   ],
   "source": [
    "classificator_knn_blanks.set_class_classicator(svm.SVC)\n",
    "classificator_knn_blanks.make_simple_classificator()"
   ]
  },
  {
   "cell_type": "markdown",
   "metadata": {},
   "source": [
    "## Search best classificator"
   ]
  },
  {
   "cell_type": "code",
   "execution_count": 22,
   "metadata": {},
   "outputs": [],
   "source": [
    "parameters = {\n",
    "#     'kernel':['linear', 'poly', 'rbf', 'sigmoid', 'precomputed'],\n",
    "    'C':np.arange(0.1,2,0.05),\n",
    "}\n",
    "parametrs_class_searher = {\n",
    "    'class_searcher': GridSearchCV,\n",
    "    'cv':5,\n",
    "    'scoring':'precision',\n",
    "    'n_jobs': 5\n",
    "}\n",
    "classificator_knn_blanks.set_parametr_search(parameters)\n",
    "classificator_knn_blanks.set_class_searcher(**parametrs_class_searher)"
   ]
  },
  {
   "cell_type": "code",
   "execution_count": 24,
   "metadata": {},
   "outputs": [
    {
     "name": "stdout",
     "output_type": "stream",
     "text": [
      "Best estimator\n",
      "\n",
      "SVC(C=0.3500000000000001, break_ties=False, cache_size=200, class_weight=None,\n",
      "    coef0=0.0, decision_function_shape='ovr', degree=3, gamma='scale',\n",
      "    kernel='rbf', max_iter=-1, probability=False, random_state=None,\n",
      "    shrinking=True, tol=0.001, verbose=False)\n",
      "\n",
      "Best parametrs\n",
      "\n",
      "{'C': 0.3500000000000001}\n",
      "\n",
      "SVC\n",
      "              precision    recall  f1-score   support\n",
      "\n",
      "           0       0.70      0.93      0.80       134\n",
      "           1       0.80      0.39      0.53        89\n",
      "\n",
      "    accuracy                           0.72       223\n",
      "   macro avg       0.75      0.66      0.66       223\n",
      "weighted avg       0.74      0.72      0.69       223\n",
      "\n"
     ]
    }
   ],
   "source": [
    "classificator_knn_blanks.searh_best_classificator()"
   ]
  },
  {
   "cell_type": "markdown",
   "metadata": {},
   "source": [
    "## Best classificator"
   ]
  },
  {
   "cell_type": "code",
   "execution_count": 25,
   "metadata": {},
   "outputs": [
    {
     "name": "stdout",
     "output_type": "stream",
     "text": [
      "SVC\n",
      "              precision    recall  f1-score   support\n",
      "\n",
      "           0       0.64      0.99      0.78       134\n",
      "           1       0.94      0.17      0.29        89\n",
      "\n",
      "    accuracy                           0.66       223\n",
      "   macro avg       0.79      0.58      0.53       223\n",
      "weighted avg       0.76      0.66      0.58       223\n",
      "\n"
     ]
    }
   ],
   "source": [
    "classificator_knn_blanks.make_best_classificator()"
   ]
  },
  {
   "cell_type": "markdown",
   "metadata": {},
   "source": [
    "## Final classificator"
   ]
  },
  {
   "cell_type": "code",
   "execution_count": 26,
   "metadata": {
    "scrolled": true
   },
   "outputs": [
    {
     "name": "stdout",
     "output_type": "stream",
     "text": [
      "SVC\n",
      "              precision    recall  f1-score   support\n",
      "\n",
      "           0       0.70      0.93      0.80       134\n",
      "           1       0.80      0.39      0.53        89\n",
      "\n",
      "    accuracy                           0.72       223\n",
      "   macro avg       0.75      0.66      0.66       223\n",
      "weighted avg       0.74      0.72      0.69       223\n",
      "\n"
     ]
    }
   ],
   "source": [
    "classificator_knn_blanks.make_final_classificator()"
   ]
  },
  {
   "cell_type": "markdown",
   "metadata": {},
   "source": [
    "## Submission"
   ]
  },
  {
   "cell_type": "code",
   "execution_count": 27,
   "metadata": {},
   "outputs": [],
   "source": [
    "y_pred = classificator_knn_blanks.make_predict_with_final_classificator()\n",
    "make_submission(y_pred, gender_submission, test_df, 'submission_svm_knn.csv')"
   ]
  },
  {
   "cell_type": "markdown",
   "metadata": {},
   "source": [
    "## Save model"
   ]
  },
  {
   "cell_type": "code",
   "execution_count": 28,
   "metadata": {},
   "outputs": [],
   "source": [
    "classificator_knn_blanks.save_final_model(PATH_MODEL, 'svm_knn.joblib')"
   ]
  },
  {
   "cell_type": "markdown",
   "metadata": {},
   "source": [
    "# IMP Blanks"
   ]
  },
  {
   "cell_type": "code",
   "execution_count": 29,
   "metadata": {},
   "outputs": [],
   "source": [
    "train_imp_df = pd.read_csv(PATH_DATA  +'train_imp_liner.csv')\n",
    "test_imp_df = pd.read_csv(PATH_DATA  +'test_imp_liner.csv')\n",
    "target_name = 'Survived'"
   ]
  },
  {
   "cell_type": "code",
   "execution_count": 30,
   "metadata": {},
   "outputs": [],
   "source": [
    "classificator_imp_blanks = Classicator(train_imp_df, test_imp_df, target_name)"
   ]
  },
  {
   "cell_type": "markdown",
   "metadata": {},
   "source": [
    "## Simple Classificator"
   ]
  },
  {
   "cell_type": "code",
   "execution_count": 31,
   "metadata": {},
   "outputs": [
    {
     "name": "stdout",
     "output_type": "stream",
     "text": [
      "SVC\n",
      "              precision    recall  f1-score   support\n",
      "\n",
      "           0       0.81      0.89      0.85       134\n",
      "           1       0.80      0.69      0.74        89\n",
      "\n",
      "    accuracy                           0.81       223\n",
      "   macro avg       0.81      0.79      0.79       223\n",
      "weighted avg       0.81      0.81      0.80       223\n",
      "\n"
     ]
    }
   ],
   "source": [
    "classificator_imp_blanks.set_class_classicator(svm.SVC)\n",
    "classificator_imp_blanks.make_simple_classificator()"
   ]
  },
  {
   "cell_type": "markdown",
   "metadata": {},
   "source": [
    "## Search best classificator"
   ]
  },
  {
   "cell_type": "code",
   "execution_count": 32,
   "metadata": {},
   "outputs": [],
   "source": [
    "parameters = {\n",
    "#     'penalty':['l1', 'l2', 'none'],\n",
    "    'C':np.arange(0.1,2,0.05),\n",
    "}\n",
    "parametrs_class_searher = {\n",
    "    'class_searcher': GridSearchCV,\n",
    "    'cv':5,\n",
    "    'scoring':'precision',\n",
    "    'n_jobs': 5\n",
    "}\n",
    "classificator_imp_blanks.set_parametr_search(parameters)\n",
    "classificator_imp_blanks.set_class_searcher(**parametrs_class_searher)"
   ]
  },
  {
   "cell_type": "code",
   "execution_count": 33,
   "metadata": {},
   "outputs": [
    {
     "name": "stdout",
     "output_type": "stream",
     "text": [
      "Best estimator\n",
      "\n",
      "SVC(C=0.40000000000000013, break_ties=False, cache_size=200, class_weight=None,\n",
      "    coef0=0.0, decision_function_shape='ovr', degree=3, gamma='scale',\n",
      "    kernel='rbf', max_iter=-1, probability=False, random_state=None,\n",
      "    shrinking=True, tol=0.001, verbose=False)\n",
      "\n",
      "Best parametrs\n",
      "\n",
      "{'C': 0.40000000000000013}\n",
      "\n",
      "SVC\n",
      "              precision    recall  f1-score   support\n",
      "\n",
      "           0       0.75      0.91      0.82       134\n",
      "           1       0.80      0.54      0.64        89\n",
      "\n",
      "    accuracy                           0.76       223\n",
      "   macro avg       0.77      0.72      0.73       223\n",
      "weighted avg       0.77      0.76      0.75       223\n",
      "\n"
     ]
    }
   ],
   "source": [
    "classificator_imp_blanks.searh_best_classificator()"
   ]
  },
  {
   "cell_type": "markdown",
   "metadata": {},
   "source": [
    "## Best classificator"
   ]
  },
  {
   "cell_type": "code",
   "execution_count": 34,
   "metadata": {},
   "outputs": [
    {
     "name": "stdout",
     "output_type": "stream",
     "text": [
      "SVC\n",
      "              precision    recall  f1-score   support\n",
      "\n",
      "           0       0.68      0.95      0.79       134\n",
      "           1       0.81      0.34      0.48        89\n",
      "\n",
      "    accuracy                           0.70       223\n",
      "   macro avg       0.75      0.64      0.63       223\n",
      "weighted avg       0.73      0.70      0.67       223\n",
      "\n"
     ]
    }
   ],
   "source": [
    "classificator_imp_blanks.make_best_classificator()"
   ]
  },
  {
   "cell_type": "markdown",
   "metadata": {},
   "source": [
    "## Final classificator"
   ]
  },
  {
   "cell_type": "code",
   "execution_count": 35,
   "metadata": {},
   "outputs": [
    {
     "name": "stdout",
     "output_type": "stream",
     "text": [
      "SVC\n",
      "              precision    recall  f1-score   support\n",
      "\n",
      "           0       0.75      0.91      0.82       134\n",
      "           1       0.80      0.54      0.64        89\n",
      "\n",
      "    accuracy                           0.76       223\n",
      "   macro avg       0.77      0.72      0.73       223\n",
      "weighted avg       0.77      0.76      0.75       223\n",
      "\n"
     ]
    }
   ],
   "source": [
    "classificator_imp_blanks.make_final_classificator()"
   ]
  },
  {
   "cell_type": "markdown",
   "metadata": {},
   "source": [
    "## Submission"
   ]
  },
  {
   "cell_type": "code",
   "execution_count": 36,
   "metadata": {},
   "outputs": [],
   "source": [
    "y_pred = classificator_imp_blanks.make_predict_with_final_classificator()\n",
    "make_submission(y_pred, gender_submission, test_df, 'submission_svm_imp.csv')"
   ]
  },
  {
   "cell_type": "markdown",
   "metadata": {},
   "source": [
    "## Save model"
   ]
  },
  {
   "cell_type": "code",
   "execution_count": 37,
   "metadata": {},
   "outputs": [],
   "source": [
    "classificator_imp_blanks.save_final_model(PATH_MODEL, 'svm_imp.joblib')"
   ]
  },
  {
   "cell_type": "code",
   "execution_count": null,
   "metadata": {},
   "outputs": [],
   "source": []
  }
 ],
 "metadata": {
  "kernelspec": {
   "display_name": "Python 3",
   "language": "python",
   "name": "python3"
  },
  "language_info": {
   "codemirror_mode": {
    "name": "ipython",
    "version": 3
   },
   "file_extension": ".py",
   "mimetype": "text/x-python",
   "name": "python",
   "nbconvert_exporter": "python",
   "pygments_lexer": "ipython3",
   "version": "3.7.3"
  }
 },
 "nbformat": 4,
 "nbformat_minor": 2
}
