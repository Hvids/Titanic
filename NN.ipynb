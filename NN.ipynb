{
 "cells": [
  {
   "cell_type": "code",
   "execution_count": 2,
   "metadata": {},
   "outputs": [],
   "source": [
    "import pandas as pd\n",
    "import numpy as np"
   ]
  },
  {
   "cell_type": "code",
   "execution_count": 11,
   "metadata": {},
   "outputs": [],
   "source": [
    "from sklearn.model_selection import train_test_split\n",
    "from sklearn.metrics import classification_report"
   ]
  },
  {
   "cell_type": "code",
   "execution_count": 30,
   "metadata": {},
   "outputs": [],
   "source": [
    "import keras\n",
    "from keras.models import Sequential\n",
    "from keras.layers import Dense, Dropout"
   ]
  },
  {
   "cell_type": "code",
   "execution_count": 6,
   "metadata": {},
   "outputs": [],
   "source": [
    "PATH_DATA = './data/'\n",
    "PATH_SUBMISSION = './submissions/'\n",
    "PATH_MODEL = './models/'"
   ]
  },
  {
   "cell_type": "code",
   "execution_count": 12,
   "metadata": {},
   "outputs": [],
   "source": [
    "train_knn_df = pd.read_csv(PATH_DATA  +'train_knn_liner.csv')\n",
    "test_knn_df = pd.read_csv(PATH_DATA  +'test_knn_liner.csv')\n",
    "target_name = 'Survived'"
   ]
  },
  {
   "cell_type": "code",
   "execution_count": 9,
   "metadata": {},
   "outputs": [],
   "source": [
    "test_df = pd.read_csv(PATH_DATA + 'test.csv')\n",
    "gender_submission = pd.read_csv(PATH_DATA + 'gender_submission.csv')"
   ]
  },
  {
   "cell_type": "code",
   "execution_count": 10,
   "metadata": {},
   "outputs": [],
   "source": [
    "def make_submission(y_pred, gender_submission, test_df, name):\n",
    "    gender_submission.Survived = y_pred\n",
    "    gender_submission.PassengerId = test_df.PassengerId\n",
    "    gender_submission.to_csv(PATH_SUBMISSION + name, index=False)"
   ]
  },
  {
   "cell_type": "code",
   "execution_count": 13,
   "metadata": {},
   "outputs": [],
   "source": [
    "X = train_knn_df.drop(target_name, axis=1)\n",
    "y = train_knn_df[target_name]\n",
    "X_test = test_knn_df"
   ]
  },
  {
   "cell_type": "code",
   "execution_count": 26,
   "metadata": {},
   "outputs": [],
   "source": [
    "X_train, X_valid, y_train, y_valid = train_test_split(X,y, random_state=42)"
   ]
  },
  {
   "cell_type": "code",
   "execution_count": 31,
   "metadata": {},
   "outputs": [],
   "source": [
    "model = Sequential()\n",
    "model.add(\n",
    "    Dense(\n",
    "        232,\n",
    "        activation='relu',\n",
    "        input_dim = 232\n",
    "    )\n",
    ")\n",
    "model.add(\n",
    "    Dense(\n",
    "        60,\n",
    "        activation='relu',\n",
    "    )\n",
    ")\n",
    "model.add(Dropout(0.5))\n",
    "model.add(\n",
    "    Dense(\n",
    "        1,\n",
    "        activation='sigmoid',\n",
    "    )\n",
    ")\n",
    "model.compile(optimizer='adam',\n",
    "              loss='binary_crossentropy',\n",
    "              metrics=['accuracy'])"
   ]
  },
  {
   "cell_type": "code",
   "execution_count": 32,
   "metadata": {},
   "outputs": [
    {
     "name": "stdout",
     "output_type": "stream",
     "text": [
      "Train on 668 samples, validate on 223 samples\n",
      "Epoch 1/100\n",
      "668/668 [==============================] - 3s 5ms/step - loss: 0.7251 - accuracy: 0.6048 - val_loss: 0.5814 - val_accuracy: 0.6996\n",
      "Epoch 2/100\n",
      "668/668 [==============================] - 0s 575us/step - loss: 0.5853 - accuracy: 0.7111 - val_loss: 0.5851 - val_accuracy: 0.6637\n",
      "Epoch 3/100\n",
      "668/668 [==============================] - 0s 528us/step - loss: 0.5272 - accuracy: 0.7515 - val_loss: 0.4670 - val_accuracy: 0.7803\n",
      "Epoch 4/100\n",
      "668/668 [==============================] - 0s 587us/step - loss: 0.4719 - accuracy: 0.7904 - val_loss: 0.4509 - val_accuracy: 0.7892\n",
      "Epoch 5/100\n",
      "668/668 [==============================] - 0s 548us/step - loss: 0.4551 - accuracy: 0.8054 - val_loss: 0.4291 - val_accuracy: 0.8027\n",
      "Epoch 6/100\n",
      "668/668 [==============================] - 0s 554us/step - loss: 0.4447 - accuracy: 0.8144 - val_loss: 0.4838 - val_accuracy: 0.7758\n",
      "Epoch 7/100\n",
      "668/668 [==============================] - 0s 616us/step - loss: 0.4203 - accuracy: 0.8219 - val_loss: 0.4414 - val_accuracy: 0.7892\n",
      "Epoch 8/100\n",
      "668/668 [==============================] - 0s 633us/step - loss: 0.4062 - accuracy: 0.8383 - val_loss: 0.4171 - val_accuracy: 0.8161\n",
      "Epoch 9/100\n",
      "668/668 [==============================] - 0s 545us/step - loss: 0.3867 - accuracy: 0.8533 - val_loss: 0.4818 - val_accuracy: 0.7982\n",
      "Epoch 10/100\n",
      "668/668 [==============================] - 0s 578us/step - loss: 0.3855 - accuracy: 0.8503 - val_loss: 0.4207 - val_accuracy: 0.8251\n",
      "Epoch 11/100\n",
      "668/668 [==============================] - 1s 768us/step - loss: 0.3741 - accuracy: 0.8548 - val_loss: 0.4540 - val_accuracy: 0.8072\n",
      "Epoch 12/100\n",
      "668/668 [==============================] - 0s 632us/step - loss: 0.3649 - accuracy: 0.8533 - val_loss: 0.4305 - val_accuracy: 0.8161\n",
      "Epoch 13/100\n",
      "668/668 [==============================] - 0s 617us/step - loss: 0.3315 - accuracy: 0.8832 - val_loss: 0.4444 - val_accuracy: 0.8296\n",
      "Epoch 14/100\n",
      "668/668 [==============================] - 0s 664us/step - loss: 0.3452 - accuracy: 0.8668 - val_loss: 0.4388 - val_accuracy: 0.8251\n",
      "Epoch 15/100\n",
      "668/668 [==============================] - 0s 612us/step - loss: 0.3468 - accuracy: 0.8683 - val_loss: 0.4449 - val_accuracy: 0.8161\n",
      "Epoch 16/100\n",
      "668/668 [==============================] - 0s 580us/step - loss: 0.3292 - accuracy: 0.8757 - val_loss: 0.4369 - val_accuracy: 0.8206\n",
      "Epoch 17/100\n",
      "668/668 [==============================] - 0s 554us/step - loss: 0.3240 - accuracy: 0.8817 - val_loss: 0.4511 - val_accuracy: 0.8206\n",
      "Epoch 18/100\n",
      "668/668 [==============================] - 0s 558us/step - loss: 0.3081 - accuracy: 0.8892 - val_loss: 0.4884 - val_accuracy: 0.8027\n",
      "Epoch 19/100\n",
      "668/668 [==============================] - 0s 579us/step - loss: 0.3030 - accuracy: 0.8877 - val_loss: 0.4563 - val_accuracy: 0.8341\n",
      "Epoch 20/100\n",
      "668/668 [==============================] - 0s 552us/step - loss: 0.2941 - accuracy: 0.8892 - val_loss: 0.4750 - val_accuracy: 0.8117\n",
      "Epoch 21/100\n",
      "668/668 [==============================] - 0s 576us/step - loss: 0.2788 - accuracy: 0.9012 - val_loss: 0.4849 - val_accuracy: 0.8161\n",
      "Epoch 22/100\n",
      "668/668 [==============================] - 0s 560us/step - loss: 0.2707 - accuracy: 0.8922 - val_loss: 0.4941 - val_accuracy: 0.8161\n",
      "Epoch 23/100\n",
      "668/668 [==============================] - 0s 630us/step - loss: 0.2593 - accuracy: 0.8967 - val_loss: 0.5420 - val_accuracy: 0.7937\n",
      "Epoch 24/100\n",
      "668/668 [==============================] - 0s 559us/step - loss: 0.2646 - accuracy: 0.9012 - val_loss: 0.4821 - val_accuracy: 0.8161\n",
      "Epoch 25/100\n",
      "668/668 [==============================] - 0s 599us/step - loss: 0.2603 - accuracy: 0.8937 - val_loss: 0.4977 - val_accuracy: 0.8117\n",
      "Epoch 26/100\n",
      "668/668 [==============================] - 0s 583us/step - loss: 0.2502 - accuracy: 0.9072 - val_loss: 0.5227 - val_accuracy: 0.8117\n",
      "Epoch 27/100\n",
      "668/668 [==============================] - 0s 565us/step - loss: 0.2388 - accuracy: 0.9057 - val_loss: 0.5388 - val_accuracy: 0.8117\n",
      "Epoch 28/100\n",
      "668/668 [==============================] - 0s 544us/step - loss: 0.2375 - accuracy: 0.8937 - val_loss: 0.5237 - val_accuracy: 0.8027\n",
      "Epoch 29/100\n",
      "668/668 [==============================] - 0s 679us/step - loss: 0.2340 - accuracy: 0.8967 - val_loss: 0.5975 - val_accuracy: 0.7803\n",
      "Epoch 30/100\n",
      "668/668 [==============================] - 0s 657us/step - loss: 0.2432 - accuracy: 0.8967 - val_loss: 0.5563 - val_accuracy: 0.7892\n",
      "Epoch 31/100\n",
      "668/668 [==============================] - 0s 657us/step - loss: 0.2102 - accuracy: 0.9147 - val_loss: 0.5924 - val_accuracy: 0.7848\n",
      "Epoch 32/100\n",
      "668/668 [==============================] - 0s 596us/step - loss: 0.2177 - accuracy: 0.9162 - val_loss: 0.5826 - val_accuracy: 0.8117\n",
      "Epoch 33/100\n",
      "668/668 [==============================] - 0s 688us/step - loss: 0.2196 - accuracy: 0.9147 - val_loss: 0.5986 - val_accuracy: 0.7848\n",
      "Epoch 34/100\n",
      "668/668 [==============================] - 0s 577us/step - loss: 0.2062 - accuracy: 0.9147 - val_loss: 0.5972 - val_accuracy: 0.7713\n",
      "Epoch 35/100\n",
      "668/668 [==============================] - 0s 577us/step - loss: 0.2062 - accuracy: 0.9162 - val_loss: 0.6021 - val_accuracy: 0.7937\n",
      "Epoch 36/100\n",
      "668/668 [==============================] - 0s 585us/step - loss: 0.2071 - accuracy: 0.9147 - val_loss: 0.6263 - val_accuracy: 0.7803\n",
      "Epoch 37/100\n",
      "668/668 [==============================] - 0s 622us/step - loss: 0.2087 - accuracy: 0.9117 - val_loss: 0.5970 - val_accuracy: 0.7713\n",
      "Epoch 38/100\n",
      "668/668 [==============================] - 0s 629us/step - loss: 0.1968 - accuracy: 0.9177 - val_loss: 0.6534 - val_accuracy: 0.7848\n",
      "Epoch 39/100\n",
      "668/668 [==============================] - 0s 575us/step - loss: 0.1857 - accuracy: 0.9207 - val_loss: 0.6675 - val_accuracy: 0.7578\n",
      "Epoch 40/100\n",
      "668/668 [==============================] - 0s 647us/step - loss: 0.1776 - accuracy: 0.9296 - val_loss: 0.6701 - val_accuracy: 0.7668\n",
      "Epoch 41/100\n",
      "668/668 [==============================] - 1s 886us/step - loss: 0.1782 - accuracy: 0.9266 - val_loss: 0.7132 - val_accuracy: 0.7713\n",
      "Epoch 42/100\n",
      "668/668 [==============================] - 1s 855us/step - loss: 0.1742 - accuracy: 0.9266 - val_loss: 0.6896 - val_accuracy: 0.7668\n",
      "Epoch 43/100\n",
      "668/668 [==============================] - 0s 682us/step - loss: 0.1744 - accuracy: 0.9281 - val_loss: 0.7376 - val_accuracy: 0.7668\n",
      "Epoch 44/100\n",
      "668/668 [==============================] - 0s 684us/step - loss: 0.1697 - accuracy: 0.9311 - val_loss: 0.7656 - val_accuracy: 0.7578\n",
      "Epoch 45/100\n",
      "668/668 [==============================] - 0s 658us/step - loss: 0.1661 - accuracy: 0.9311 - val_loss: 0.7873 - val_accuracy: 0.7534\n",
      "Epoch 46/100\n",
      "668/668 [==============================] - ETA: 0s - loss: 0.1684 - accuracy: 0.92 - 0s 661us/step - loss: 0.1735 - accuracy: 0.9222 - val_loss: 0.7083 - val_accuracy: 0.8027\n",
      "Epoch 47/100\n",
      "668/668 [==============================] - 0s 685us/step - loss: 0.1739 - accuracy: 0.9237 - val_loss: 0.7502 - val_accuracy: 0.7623\n",
      "Epoch 48/100\n",
      "668/668 [==============================] - 0s 648us/step - loss: 0.1650 - accuracy: 0.9416 - val_loss: 0.7388 - val_accuracy: 0.7803\n",
      "Epoch 49/100\n",
      "668/668 [==============================] - 0s 717us/step - loss: 0.1513 - accuracy: 0.9386 - val_loss: 0.7909 - val_accuracy: 0.7623\n",
      "Epoch 50/100\n",
      "668/668 [==============================] - 0s 682us/step - loss: 0.1428 - accuracy: 0.9461 - val_loss: 0.7728 - val_accuracy: 0.7713\n",
      "Epoch 51/100\n",
      "668/668 [==============================] - 0s 668us/step - loss: 0.1445 - accuracy: 0.9356 - val_loss: 0.8503 - val_accuracy: 0.7578\n",
      "Epoch 52/100\n",
      "668/668 [==============================] - 0s 666us/step - loss: 0.1518 - accuracy: 0.9401 - val_loss: 0.8471 - val_accuracy: 0.7713\n",
      "Epoch 53/100\n",
      "668/668 [==============================] - 0s 726us/step - loss: 0.1478 - accuracy: 0.9431 - val_loss: 0.8031 - val_accuracy: 0.7713\n",
      "Epoch 54/100\n",
      "668/668 [==============================] - 0s 655us/step - loss: 0.1518 - accuracy: 0.9416 - val_loss: 0.7963 - val_accuracy: 0.7848\n",
      "Epoch 55/100\n",
      "668/668 [==============================] - 0s 649us/step - loss: 0.1491 - accuracy: 0.9356 - val_loss: 0.8332 - val_accuracy: 0.7713\n",
      "Epoch 56/100\n"
     ]
    },
    {
     "name": "stdout",
     "output_type": "stream",
     "text": [
      "668/668 [==============================] - 0s 521us/step - loss: 0.1423 - accuracy: 0.9371 - val_loss: 0.8918 - val_accuracy: 0.7578\n",
      "Epoch 57/100\n",
      "668/668 [==============================] - 0s 582us/step - loss: 0.1192 - accuracy: 0.9566 - val_loss: 0.9127 - val_accuracy: 0.7892\n",
      "Epoch 58/100\n",
      "668/668 [==============================] - 0s 693us/step - loss: 0.1244 - accuracy: 0.9506 - val_loss: 0.9016 - val_accuracy: 0.7713\n",
      "Epoch 59/100\n",
      "668/668 [==============================] - 0s 594us/step - loss: 0.1272 - accuracy: 0.9431 - val_loss: 0.9852 - val_accuracy: 0.7489\n",
      "Epoch 60/100\n",
      "668/668 [==============================] - 0s 620us/step - loss: 0.1330 - accuracy: 0.9491 - val_loss: 0.8875 - val_accuracy: 0.7623\n",
      "Epoch 61/100\n",
      "668/668 [==============================] - 0s 577us/step - loss: 0.1259 - accuracy: 0.9506 - val_loss: 0.8764 - val_accuracy: 0.7668\n",
      "Epoch 62/100\n",
      "668/668 [==============================] - ETA: 0s - loss: 0.1093 - accuracy: 0.95 - 0s 664us/step - loss: 0.1137 - accuracy: 0.9491 - val_loss: 0.9416 - val_accuracy: 0.7668\n",
      "Epoch 63/100\n",
      "668/668 [==============================] - 0s 465us/step - loss: 0.1199 - accuracy: 0.9566 - val_loss: 0.9993 - val_accuracy: 0.7399\n",
      "Epoch 64/100\n",
      "668/668 [==============================] - 0s 585us/step - loss: 0.1092 - accuracy: 0.9551 - val_loss: 0.9505 - val_accuracy: 0.7758\n",
      "Epoch 65/100\n",
      "668/668 [==============================] - 0s 595us/step - loss: 0.1157 - accuracy: 0.9521 - val_loss: 0.9994 - val_accuracy: 0.7623\n",
      "Epoch 66/100\n",
      "668/668 [==============================] - 0s 580us/step - loss: 0.1352 - accuracy: 0.9476 - val_loss: 0.9607 - val_accuracy: 0.7578\n",
      "Epoch 67/100\n",
      "668/668 [==============================] - 0s 699us/step - loss: 0.1217 - accuracy: 0.9476 - val_loss: 0.8850 - val_accuracy: 0.7623\n",
      "Epoch 68/100\n",
      "668/668 [==============================] - 0s 531us/step - loss: 0.1115 - accuracy: 0.9506 - val_loss: 1.0086 - val_accuracy: 0.7668\n",
      "Epoch 69/100\n",
      "668/668 [==============================] - 0s 554us/step - loss: 0.1084 - accuracy: 0.9491 - val_loss: 0.9366 - val_accuracy: 0.7668\n",
      "Epoch 70/100\n",
      "668/668 [==============================] - 0s 583us/step - loss: 0.1017 - accuracy: 0.9596 - val_loss: 1.0941 - val_accuracy: 0.7578\n",
      "Epoch 71/100\n",
      "668/668 [==============================] - 0s 649us/step - loss: 0.1134 - accuracy: 0.9491 - val_loss: 1.0627 - val_accuracy: 0.7489\n",
      "Epoch 72/100\n",
      "668/668 [==============================] - 0s 631us/step - loss: 0.1148 - accuracy: 0.9446 - val_loss: 1.0235 - val_accuracy: 0.7668\n",
      "Epoch 73/100\n",
      "668/668 [==============================] - 0s 704us/step - loss: 0.1007 - accuracy: 0.9551 - val_loss: 1.0136 - val_accuracy: 0.7713\n",
      "Epoch 74/100\n",
      "668/668 [==============================] - 0s 660us/step - loss: 0.1101 - accuracy: 0.9476 - val_loss: 1.0445 - val_accuracy: 0.7489\n",
      "Epoch 75/100\n",
      "668/668 [==============================] - 0s 547us/step - loss: 0.1090 - accuracy: 0.9491 - val_loss: 1.0260 - val_accuracy: 0.7668\n",
      "Epoch 76/100\n",
      "668/668 [==============================] - 0s 545us/step - loss: 0.1024 - accuracy: 0.9641 - val_loss: 1.0720 - val_accuracy: 0.7848\n",
      "Epoch 77/100\n",
      "668/668 [==============================] - 0s 725us/step - loss: 0.1178 - accuracy: 0.9581 - val_loss: 1.0972 - val_accuracy: 0.7578\n",
      "Epoch 78/100\n",
      "668/668 [==============================] - 0s 589us/step - loss: 0.1100 - accuracy: 0.9491 - val_loss: 1.1162 - val_accuracy: 0.7444\n",
      "Epoch 79/100\n",
      "668/668 [==============================] - 0s 646us/step - loss: 0.1070 - accuracy: 0.9551 - val_loss: 1.1614 - val_accuracy: 0.7489\n",
      "Epoch 80/100\n",
      "668/668 [==============================] - 0s 603us/step - loss: 0.1027 - accuracy: 0.9551 - val_loss: 1.1008 - val_accuracy: 0.7534\n",
      "Epoch 81/100\n",
      "668/668 [==============================] - 0s 523us/step - loss: 0.1035 - accuracy: 0.9551 - val_loss: 1.0736 - val_accuracy: 0.7713\n",
      "Epoch 82/100\n",
      "668/668 [==============================] - 0s 496us/step - loss: 0.1004 - accuracy: 0.9521 - val_loss: 1.0899 - val_accuracy: 0.7489\n",
      "Epoch 83/100\n",
      "668/668 [==============================] - 1s 751us/step - loss: 0.0997 - accuracy: 0.9566 - val_loss: 1.1389 - val_accuracy: 0.7623\n",
      "Epoch 84/100\n",
      "668/668 [==============================] - 0s 565us/step - loss: 0.0936 - accuracy: 0.9551 - val_loss: 1.1427 - val_accuracy: 0.7623\n",
      "Epoch 85/100\n",
      "668/668 [==============================] - 0s 585us/step - loss: 0.0961 - accuracy: 0.9581 - val_loss: 1.1646 - val_accuracy: 0.7578\n",
      "Epoch 86/100\n",
      "668/668 [==============================] - 0s 544us/step - loss: 0.0964 - accuracy: 0.9551 - val_loss: 1.1886 - val_accuracy: 0.7489\n",
      "Epoch 87/100\n",
      "668/668 [==============================] - 0s 542us/step - loss: 0.0970 - accuracy: 0.9551 - val_loss: 1.1165 - val_accuracy: 0.7578\n",
      "Epoch 88/100\n",
      "668/668 [==============================] - 0s 556us/step - loss: 0.0805 - accuracy: 0.9671 - val_loss: 1.1712 - val_accuracy: 0.7668\n",
      "Epoch 89/100\n",
      "668/668 [==============================] - 0s 512us/step - loss: 0.0907 - accuracy: 0.9656 - val_loss: 1.1314 - val_accuracy: 0.7713\n",
      "Epoch 90/100\n",
      "668/668 [==============================] - 0s 535us/step - loss: 0.0980 - accuracy: 0.9626 - val_loss: 1.1899 - val_accuracy: 0.7623\n",
      "Epoch 91/100\n",
      "668/668 [==============================] - 0s 665us/step - loss: 0.0981 - accuracy: 0.9626 - val_loss: 1.1865 - val_accuracy: 0.7489\n",
      "Epoch 92/100\n",
      "668/668 [==============================] - 0s 630us/step - loss: 0.0937 - accuracy: 0.9671 - val_loss: 1.1870 - val_accuracy: 0.7623\n",
      "Epoch 93/100\n",
      "668/668 [==============================] - 0s 640us/step - loss: 0.0840 - accuracy: 0.9701 - val_loss: 1.1855 - val_accuracy: 0.7578\n",
      "Epoch 94/100\n",
      "668/668 [==============================] - 0s 638us/step - loss: 0.0842 - accuracy: 0.9641 - val_loss: 1.1926 - val_accuracy: 0.7713\n",
      "Epoch 95/100\n",
      "668/668 [==============================] - 0s 609us/step - loss: 0.0900 - accuracy: 0.9581 - val_loss: 1.2333 - val_accuracy: 0.7444\n",
      "Epoch 96/100\n",
      "668/668 [==============================] - 0s 554us/step - loss: 0.0920 - accuracy: 0.9611 - val_loss: 1.2977 - val_accuracy: 0.7489\n",
      "Epoch 97/100\n",
      "668/668 [==============================] - 0s 579us/step - loss: 0.0844 - accuracy: 0.9581 - val_loss: 1.2288 - val_accuracy: 0.7668\n",
      "Epoch 98/100\n",
      "668/668 [==============================] - 0s 570us/step - loss: 0.0876 - accuracy: 0.9566 - val_loss: 1.2456 - val_accuracy: 0.7668\n",
      "Epoch 99/100\n",
      "668/668 [==============================] - 0s 628us/step - loss: 0.0793 - accuracy: 0.9701 - val_loss: 1.2454 - val_accuracy: 0.7578\n",
      "Epoch 100/100\n",
      "668/668 [==============================] - 0s 675us/step - loss: 0.0781 - accuracy: 0.9656 - val_loss: 1.3098 - val_accuracy: 0.7534\n"
     ]
    },
    {
     "data": {
      "text/plain": [
       "<keras.callbacks.callbacks.History at 0x7ff7377307f0>"
      ]
     },
     "execution_count": 32,
     "metadata": {},
     "output_type": "execute_result"
    }
   ],
   "source": [
    "model.fit(X_train,y_train, epochs=100, validation_data=(X_valid,y_valid))"
   ]
  },
  {
   "cell_type": "code",
   "execution_count": 40,
   "metadata": {},
   "outputs": [],
   "source": [
    "y_pred = model.predict_classes(X_test)[:,0]"
   ]
  },
  {
   "cell_type": "code",
   "execution_count": 41,
   "metadata": {},
   "outputs": [],
   "source": [
    "make_submission(y_pred, gender_submission, test_df, 'submission_nn_knn.csv')"
   ]
  },
  {
   "cell_type": "code",
   "execution_count": null,
   "metadata": {},
   "outputs": [],
   "source": []
  }
 ],
 "metadata": {
  "kernelspec": {
   "display_name": "Python 3",
   "language": "python",
   "name": "python3"
  },
  "language_info": {
   "codemirror_mode": {
    "name": "ipython",
    "version": 3
   },
   "file_extension": ".py",
   "mimetype": "text/x-python",
   "name": "python",
   "nbconvert_exporter": "python",
   "pygments_lexer": "ipython3",
   "version": "3.7.3"
  }
 },
 "nbformat": 4,
 "nbformat_minor": 2
}
