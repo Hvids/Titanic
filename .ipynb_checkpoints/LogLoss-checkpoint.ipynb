{
 "cells": [
  {
   "cell_type": "code",
   "execution_count": 1,
   "metadata": {},
   "outputs": [],
   "source": [
    "import warnings\n",
    "warnings.filterwarnings(\"ignore\")"
   ]
  },
  {
   "cell_type": "code",
   "execution_count": 2,
   "metadata": {},
   "outputs": [],
   "source": [
    "import pandas as pd\n",
    "import numpy as np\n"
   ]
  },
  {
   "cell_type": "code",
   "execution_count": 3,
   "metadata": {},
   "outputs": [],
   "source": [
    "from joblib import dump, load"
   ]
  },
  {
   "cell_type": "code",
   "execution_count": 4,
   "metadata": {},
   "outputs": [],
   "source": [
    "from sklearn.linear_model import LogisticRegression\n",
    "from sklearn.model_selection import train_test_split\n",
    "from sklearn.metrics import classification_report\n",
    "from sklearn.model_selection import GridSearchCV\n"
   ]
  },
  {
   "cell_type": "code",
   "execution_count": 5,
   "metadata": {},
   "outputs": [],
   "source": [
    "PATH_DATA = './data/'\n",
    "PATH_SUBMISSION = './submissions/'\n",
    "PATH_MODEL = './models/'"
   ]
  },
  {
   "cell_type": "code",
   "execution_count": 6,
   "metadata": {},
   "outputs": [],
   "source": [
    "test_df = pd.read_csv(PATH_DATA + 'test.csv')"
   ]
  },
  {
   "cell_type": "code",
   "execution_count": 7,
   "metadata": {},
   "outputs": [],
   "source": [
    "gender_submission = pd.read_csv(PATH_DATA + 'gender_submission.csv')"
   ]
  },
  {
   "cell_type": "code",
   "execution_count": 8,
   "metadata": {},
   "outputs": [],
   "source": [
    "def make_submission(y_pred, gender_submission, test_df, name):\n",
    "    gender_submission.Survived = y_pred\n",
    "    gender_submission.PassengerId = test_df.PassengerId\n",
    "    gender_submission.to_csv(PATH_SUBMISSION + name, index=False)"
   ]
  },
  {
   "cell_type": "code",
   "execution_count": 9,
   "metadata": {},
   "outputs": [],
   "source": [
    "class Classicator:\n",
    "    def __init__(self, data_train, data_test,target_name):\n",
    "        self.X = data_train.drop(target_name,axis=1)\n",
    "        self.y = data_train[target_name]\n",
    "        self.X_test = data_test\n",
    "        self.X_train, self.X_valid, self.y_train, self.y_valid = train_test_split(self.X,self.y, random_state=42)\n",
    "        \n",
    "        self.class_classicator = None\n",
    "        self.simple_classificator = None\n",
    "    \n",
    "    def set_parametr_search(self, parametrs_search):\n",
    "        self.parametrs_search = parametrs_search\n",
    "    \n",
    "    def set_class_searcher(self,class_searcher, cv, scoring, n_jobs):\n",
    "        self.class_searcher = class_searcher\n",
    "        self.cv = cv\n",
    "        self.scoring = scoring\n",
    "        self.n_jobs = n_jobs\n",
    "        \n",
    "    def set_class_classicator(self, class_classicator):\n",
    "#       class_classicator - класс который будет использоваться для классификации \n",
    "        self.class_classicator = class_classicator\n",
    "        \n",
    "    def searh_best_classificator(self):\n",
    "        clf = self.class_searcher(\n",
    "            self.class_classicator(),\n",
    "            param_grid=self.parametrs_search,\n",
    "            cv=self.cv,\n",
    "            scoring=self.scoring, \n",
    "            n_jobs=self.n_jobs\n",
    "        )\n",
    "        clf.fit(self.X, self.y)\n",
    "        \n",
    "        self.__print_report_searcher(clf)\n",
    "        self.__print_report_classificator(clf)\n",
    "        \n",
    "        self.best_parametrs = clf.best_params_\n",
    "        \n",
    "    def make_best_classificator(self):\n",
    "        model = self.class_classicator(**self.best_parametrs)\n",
    "        model.fit(self.X_train, self.y_train)\n",
    "        self.__print_report_classificator(model)\n",
    "        self.best_classificator = model\n",
    "    \n",
    "    def make_simple_classificator(self):\n",
    "        model = self.class_classicator()\n",
    "        model.fit(self.X_train, self.y_train)\n",
    "        self.__print_report_classificator(model)\n",
    "        self.simple_classificator = model\n",
    "    \n",
    "    def make_final_classificator(self):\n",
    "        model = self.class_classicator(**self.best_parametrs)\n",
    "        model.fit(self.X, self.y)\n",
    "        self.__print_report_classificator(model)\n",
    "        self.final_classificator = model\n",
    "    \n",
    "    def make_predict_with_final_classificator(self):\n",
    "        y_pred = self.final_classificator.predict(self.X_test)\n",
    "        return y_pred\n",
    "        \n",
    "    def save_final_model(self, path_save, name):\n",
    "        dump(self.final_classificator, PATH_MODEL + name)\n",
    "        \n",
    "    def __print_report_searcher(self,model):\n",
    "        print('Best estimator')\n",
    "        print('')\n",
    "        print(model.best_estimator_)\n",
    "        print('')\n",
    "        print('Best parametrs')\n",
    "        print('')\n",
    "        print(model.best_params_)\n",
    "        print('')\n",
    "    \n",
    "    def __print_report_classificator(self, model):\n",
    "        y_pred = model.predict(self.X_valid)\n",
    "        print(LogisticRegression.__name__)\n",
    "        print(classification_report(self.y_valid, y_pred))\n",
    "        "
   ]
  },
  {
   "cell_type": "markdown",
   "metadata": {},
   "source": [
    "# KNN blanks"
   ]
  },
  {
   "cell_type": "code",
   "execution_count": 10,
   "metadata": {},
   "outputs": [],
   "source": [
    "train_knn_df = pd.read_csv(PATH_DATA  +'train_knn_liner.csv')\n",
    "test_knn_df = pd.read_csv(PATH_DATA  +'test_knn_liner.csv')\n",
    "target_name = 'Survived'"
   ]
  },
  {
   "cell_type": "code",
   "execution_count": 11,
   "metadata": {},
   "outputs": [],
   "source": [
    "classificator_knn_blanks = Classicator(train_knn_df, test_knn_df, target_name)"
   ]
  },
  {
   "cell_type": "markdown",
   "metadata": {},
   "source": [
    "## Simple Classificator"
   ]
  },
  {
   "cell_type": "code",
   "execution_count": 12,
   "metadata": {},
   "outputs": [
    {
     "name": "stdout",
     "output_type": "stream",
     "text": [
      "LogisticRegression\n",
      "              precision    recall  f1-score   support\n",
      "\n",
      "           0       0.85      0.86      0.86       134\n",
      "           1       0.78      0.78      0.78        89\n",
      "\n",
      "    accuracy                           0.83       223\n",
      "   macro avg       0.82      0.82      0.82       223\n",
      "weighted avg       0.82      0.83      0.82       223\n",
      "\n"
     ]
    }
   ],
   "source": [
    "classificator_knn_blanks.set_class_classicator(LogisticRegression)\n",
    "classificator_knn_blanks.make_simple_classificator()"
   ]
  },
  {
   "cell_type": "markdown",
   "metadata": {},
   "source": [
    "## Search best classificator"
   ]
  },
  {
   "cell_type": "code",
   "execution_count": 13,
   "metadata": {},
   "outputs": [],
   "source": [
    "parameters = {\n",
    "    'penalty':['l1', 'l2', 'none'],\n",
    "    'C':np.arange(0,2,0.05),\n",
    "}\n",
    "parametrs_class_searher = {\n",
    "    'class_searcher': GridSearchCV,\n",
    "    'cv':5,\n",
    "    'scoring':'precision',\n",
    "    'n_jobs': 5\n",
    "}\n",
    "classificator_knn_blanks.set_parametr_search(parameters)\n",
    "classificator_knn_blanks.set_class_searcher(**parametrs_class_searher)"
   ]
  },
  {
   "cell_type": "code",
   "execution_count": 14,
   "metadata": {},
   "outputs": [
    {
     "name": "stdout",
     "output_type": "stream",
     "text": [
      "Best estimator\n",
      "\n",
      "LogisticRegression(C=1.1500000000000001, class_weight=None, dual=False,\n",
      "                   fit_intercept=True, intercept_scaling=1, l1_ratio=None,\n",
      "                   max_iter=100, multi_class='auto', n_jobs=None, penalty='l2',\n",
      "                   random_state=None, solver='lbfgs', tol=0.0001, verbose=0,\n",
      "                   warm_start=False)\n",
      "\n",
      "Best parametrs\n",
      "\n",
      "{'C': 1.1500000000000001, 'penalty': 'l2'}\n",
      "\n",
      "LogisticRegression\n",
      "              precision    recall  f1-score   support\n",
      "\n",
      "           0       0.88      0.89      0.88       134\n",
      "           1       0.83      0.81      0.82        89\n",
      "\n",
      "    accuracy                           0.86       223\n",
      "   macro avg       0.85      0.85      0.85       223\n",
      "weighted avg       0.86      0.86      0.86       223\n",
      "\n"
     ]
    }
   ],
   "source": [
    "classificator_knn_blanks.searh_best_classificator()"
   ]
  },
  {
   "cell_type": "markdown",
   "metadata": {},
   "source": [
    "## Best classificator"
   ]
  },
  {
   "cell_type": "code",
   "execution_count": 15,
   "metadata": {},
   "outputs": [
    {
     "name": "stdout",
     "output_type": "stream",
     "text": [
      "LogisticRegression\n",
      "              precision    recall  f1-score   support\n",
      "\n",
      "           0       0.85      0.85      0.85       134\n",
      "           1       0.78      0.78      0.78        89\n",
      "\n",
      "    accuracy                           0.82       223\n",
      "   macro avg       0.81      0.81      0.81       223\n",
      "weighted avg       0.82      0.82      0.82       223\n",
      "\n"
     ]
    }
   ],
   "source": [
    "classificator_knn_blanks.make_best_classificator()"
   ]
  },
  {
   "cell_type": "markdown",
   "metadata": {},
   "source": [
    "## Final classificator"
   ]
  },
  {
   "cell_type": "code",
   "execution_count": 16,
   "metadata": {
    "scrolled": true
   },
   "outputs": [
    {
     "name": "stdout",
     "output_type": "stream",
     "text": [
      "LogisticRegression\n",
      "              precision    recall  f1-score   support\n",
      "\n",
      "           0       0.88      0.89      0.88       134\n",
      "           1       0.83      0.81      0.82        89\n",
      "\n",
      "    accuracy                           0.86       223\n",
      "   macro avg       0.85      0.85      0.85       223\n",
      "weighted avg       0.86      0.86      0.86       223\n",
      "\n"
     ]
    }
   ],
   "source": [
    "classificator_knn_blanks.make_final_classificator()"
   ]
  },
  {
   "cell_type": "markdown",
   "metadata": {},
   "source": [
    "## Submission"
   ]
  },
  {
   "cell_type": "code",
   "execution_count": 17,
   "metadata": {},
   "outputs": [],
   "source": [
    "y_pred = classificator_knn_blanks.make_predict_with_final_classificator()\n",
    "make_submission(y_pred, gender_submission, test_df, 'submission_log_loss_knn.csv')"
   ]
  },
  {
   "cell_type": "markdown",
   "metadata": {},
   "source": [
    "## Save model"
   ]
  },
  {
   "cell_type": "code",
   "execution_count": 18,
   "metadata": {},
   "outputs": [],
   "source": [
    "classificator_knn_blanks.save_final_model(PATH_MODEL, 'log_loss_knn.joblib')"
   ]
  },
  {
   "cell_type": "markdown",
   "metadata": {},
   "source": [
    "# IMP Blanks"
   ]
  },
  {
   "cell_type": "code",
   "execution_count": 19,
   "metadata": {},
   "outputs": [],
   "source": [
    "train_imp_df = pd.read_csv(PATH_DATA  +'train_imp_liner.csv')\n",
    "test_imp_df = pd.read_csv(PATH_DATA  +'test_imp_liner.csv')\n",
    "target_name = 'Survived'"
   ]
  },
  {
   "cell_type": "code",
   "execution_count": 20,
   "metadata": {},
   "outputs": [],
   "source": [
    "classificator_imp_blanks = Classicator(train_imp_df, test_imp_df, target_name)"
   ]
  },
  {
   "cell_type": "markdown",
   "metadata": {},
   "source": [
    "## Simple Classificator"
   ]
  },
  {
   "cell_type": "code",
   "execution_count": 21,
   "metadata": {},
   "outputs": [
    {
     "name": "stdout",
     "output_type": "stream",
     "text": [
      "LogisticRegression\n",
      "              precision    recall  f1-score   support\n",
      "\n",
      "           0       0.86      0.84      0.85       134\n",
      "           1       0.77      0.79      0.78        89\n",
      "\n",
      "    accuracy                           0.82       223\n",
      "   macro avg       0.81      0.81      0.81       223\n",
      "weighted avg       0.82      0.82      0.82       223\n",
      "\n"
     ]
    }
   ],
   "source": [
    "classificator_imp_blanks.set_class_classicator(LogisticRegression)\n",
    "classificator_imp_blanks.make_simple_classificator()"
   ]
  },
  {
   "cell_type": "markdown",
   "metadata": {},
   "source": [
    "## Search best classificator"
   ]
  },
  {
   "cell_type": "code",
   "execution_count": 22,
   "metadata": {},
   "outputs": [],
   "source": [
    "parameters = {\n",
    "    'penalty':['l1', 'l2', 'none'],\n",
    "    'C':np.arange(0,2,0.05),\n",
    "}\n",
    "parametrs_class_searher = {\n",
    "    'class_searcher': GridSearchCV,\n",
    "    'cv':5,\n",
    "    'scoring':'precision',\n",
    "    'n_jobs': 5\n",
    "}\n",
    "classificator_imp_blanks.set_parametr_search(parameters)\n",
    "classificator_imp_blanks.set_class_searcher(**parametrs_class_searher)"
   ]
  },
  {
   "cell_type": "code",
   "execution_count": 23,
   "metadata": {},
   "outputs": [
    {
     "name": "stdout",
     "output_type": "stream",
     "text": [
      "Best estimator\n",
      "\n",
      "LogisticRegression(C=1.1500000000000001, class_weight=None, dual=False,\n",
      "                   fit_intercept=True, intercept_scaling=1, l1_ratio=None,\n",
      "                   max_iter=100, multi_class='auto', n_jobs=None, penalty='l2',\n",
      "                   random_state=None, solver='lbfgs', tol=0.0001, verbose=0,\n",
      "                   warm_start=False)\n",
      "\n",
      "Best parametrs\n",
      "\n",
      "{'C': 1.1500000000000001, 'penalty': 'l2'}\n",
      "\n",
      "LogisticRegression\n",
      "              precision    recall  f1-score   support\n",
      "\n",
      "           0       0.88      0.89      0.88       134\n",
      "           1       0.83      0.81      0.82        89\n",
      "\n",
      "    accuracy                           0.86       223\n",
      "   macro avg       0.85      0.85      0.85       223\n",
      "weighted avg       0.86      0.86      0.86       223\n",
      "\n"
     ]
    }
   ],
   "source": [
    "classificator_imp_blanks.searh_best_classificator()"
   ]
  },
  {
   "cell_type": "markdown",
   "metadata": {},
   "source": [
    "## Best classificator"
   ]
  },
  {
   "cell_type": "code",
   "execution_count": null,
   "metadata": {},
   "outputs": [],
   "source": [
    "classificator_imp_blanks.make_best_classificator()"
   ]
  },
  {
   "cell_type": "markdown",
   "metadata": {},
   "source": [
    "## Final classificator"
   ]
  },
  {
   "cell_type": "code",
   "execution_count": 24,
   "metadata": {},
   "outputs": [
    {
     "name": "stdout",
     "output_type": "stream",
     "text": [
      "LogisticRegression\n",
      "              precision    recall  f1-score   support\n",
      "\n",
      "           0       0.88      0.89      0.88       134\n",
      "           1       0.83      0.81      0.82        89\n",
      "\n",
      "    accuracy                           0.86       223\n",
      "   macro avg       0.85      0.85      0.85       223\n",
      "weighted avg       0.86      0.86      0.86       223\n",
      "\n"
     ]
    }
   ],
   "source": [
    "classificator_imp_blanks.make_final_classificator()"
   ]
  },
  {
   "cell_type": "markdown",
   "metadata": {},
   "source": [
    "## Submission"
   ]
  },
  {
   "cell_type": "code",
   "execution_count": null,
   "metadata": {},
   "outputs": [],
   "source": [
    "y_pred = classificator_imp_blanks.make_predict_with_final_classificator()\n",
    "make_submission(y_pred, gender_submission, test_df, 'submission_log_loss_imp.csv')"
   ]
  },
  {
   "cell_type": "markdown",
   "metadata": {},
   "source": [
    "## Save model"
   ]
  },
  {
   "cell_type": "code",
   "execution_count": null,
   "metadata": {},
   "outputs": [],
   "source": [
    "classificator_imp_blanks.save_final_model(PATH_MODEL, 'log_loss_imp.joblib')"
   ]
  }
 ],
 "metadata": {
  "kernelspec": {
   "display_name": "Python 3",
   "language": "python",
   "name": "python3"
  },
  "language_info": {
   "codemirror_mode": {
    "name": "ipython",
    "version": 3
   },
   "file_extension": ".py",
   "mimetype": "text/x-python",
   "name": "python",
   "nbconvert_exporter": "python",
   "pygments_lexer": "ipython3",
   "version": "3.7.3"
  }
 },
 "nbformat": 4,
 "nbformat_minor": 2
}
